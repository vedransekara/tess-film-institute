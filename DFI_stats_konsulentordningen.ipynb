{
 "cells": [
  {
   "cell_type": "code",
   "execution_count": null,
   "metadata": {},
   "outputs": [],
   "source": [
    "import matplotlib.pyplot as plt\n",
    "import numpy as np\n",
    "import pandas as pd\n",
    "import re\n",
    "%matplotlib notebook"
   ]
  },
  {
   "cell_type": "code",
   "execution_count": null,
   "metadata": {},
   "outputs": [],
   "source": [
    "from matplotlib import rc\n",
    "rc('font',**{'family':'sans-serif','sans-serif':['Helvetica']})\n",
    "plt.rcParams['pdf.fonttype'] = 'truetype'"
   ]
  },
  {
   "cell_type": "markdown",
   "metadata": {},
   "source": [
    "* Funds for ```Manus``` & ```Udvikling``` are attributed to ```Manusforfatter```\n",
    "* Funds for ```Produktion``` are attributed to ```Instruktør```"
   ]
  },
  {
   "cell_type": "code",
   "execution_count": null,
   "metadata": {},
   "outputs": [],
   "source": [
    "#data = pd.read_csv('data/DFI_2014_Spillefilm_konsulentordningen_voksne.tsv',sep='\\t',dtype=str)\n",
    "#data = pd.read_csv('data/DFI_2015_Spillefilm_konsulentordningen_voksne.tsv',sep='\\t',dtype=str)\n",
    "#data = pd.read_csv('data/DFI_2016_Spillefilm_konsulentordningen_voksne.tsv',sep='\\t',dtype=str)\n",
    "#data = pd.read_csv('data/DFI_2017_Spillefilm_konsulentordningen_voksne.tsv',sep='\\t',dtype=str)\n",
    "data = pd.read_csv('data/DFI_2018_Spillefilm_konsulentordningen_voksne.tsv',sep='\\t',dtype=str)"
   ]
  },
  {
   "cell_type": "code",
   "execution_count": null,
   "metadata": {},
   "outputs": [],
   "source": [
    "drengenavne = set(pd.read_csv('drengenavne.csv',header=None)[0])\n",
    "pigenavne = set(pd.read_csv('pigenavne.csv',header=None)[0])\n",
    "\n",
    "# added by me\n",
    "drengenavne.update(['Samanou','Manyar','Nagieb','Cav'])\n",
    "pigenavne.update(['Linn-Jeanethe','Lærke'])"
   ]
  },
  {
   "cell_type": "markdown",
   "metadata": {},
   "source": [
    "## Funds to Manusforfatter"
   ]
  },
  {
   "cell_type": "code",
   "execution_count": null,
   "metadata": {},
   "outputs": [],
   "source": [
    "# info \n",
    "# PIGEN FRA PLANEN (2018) got 70.000 kr in Manus yet has no listed Manusforfatter"
   ]
  },
  {
   "cell_type": "code",
   "execution_count": null,
   "metadata": {},
   "outputs": [],
   "source": [
    "female_money = []\n",
    "male_money = []\n",
    "#for people,fund_m,fund_u in data[['Manusforfatter','Manus 2014','Udvikling 2014']].values:\n",
    "#for people,fund_m,fund_u in data[['Manusforfatter','Manus 2015','Udvikling 2015']].values:\n",
    "#for people,fund_m,fund_u in data[['Manusforfatter','Manus 2016','Udvikling 2016']].values:\n",
    "#for people,fund_m,fund_u in data[['Manusforfatter','Manus 2017','Udvikling 2017']].values:\n",
    "for people,fund_m,fund_u in data[['Manusforfatter','Manus 2018','Udvikling 2018']].values:\n",
    "\n",
    "    if people == people:\n",
    "        # funds for manus \n",
    "        fund_m = sum(map(int,re.findall(r'\\d+', fund_m.replace('.',''))))\n",
    "        fund_u = sum(map(int,re.findall(r'\\d+', fund_u.replace('.',''))))\n",
    "        # total\n",
    "        sum_ = fund_m + fund_u\n",
    "\n",
    "        # go through the row\n",
    "        # count number of male and female participants\n",
    "        male = 0\n",
    "        female = 0\n",
    "\n",
    "        # is there more than one individuals?\n",
    "        if ',' in people:\n",
    "            for p in people.split(','):\n",
    "                if p.strip().split(' ')[0] in drengenavne:\n",
    "                    male += 1\n",
    "                elif p.strip().split(' ')[0] in pigenavne:\n",
    "                    female += 1\n",
    "                # if the name is ambiguous \n",
    "                else:\n",
    "                    print \"WARNING:  Ambiguous name\"\n",
    "                    print people, male, female\n",
    "        else:\n",
    "            if people.split(' ')[0] in drengenavne:\n",
    "                male += 1\n",
    "            elif people.split(' ')[0] in pigenavne:\n",
    "                female += 1\n",
    "            # if the name is ambiguous \n",
    "            else:\n",
    "                print \"WARNING:  Ambiguous name\"\n",
    "                print people, male, female\n",
    "\n",
    "        if sum_ > 0: # sometimes funds are only given to one for the three buckets to avoid adding zeros\n",
    "            total_people = male + female\n",
    "            part = sum_/total_people\n",
    "\n",
    "            for i in range(male):\n",
    "                male_money.append(part)\n",
    "            for i in range(female):\n",
    "                female_money.append(part)\n",
    "            "
   ]
  },
  {
   "cell_type": "code",
   "execution_count": null,
   "metadata": {},
   "outputs": [],
   "source": [
    "print \"{:,}\".format(sum(male_money)).replace(',','.'), \"{:,}\".format(sum(female_money)).replace(',','.')\n",
    "print sum(male_money), sum(female_money)"
   ]
  },
  {
   "cell_type": "markdown",
   "metadata": {},
   "source": [
    "__Plot stuff__"
   ]
  },
  {
   "cell_type": "code",
   "execution_count": null,
   "metadata": {},
   "outputs": [],
   "source": [
    "# year, male_money, female_money\n",
    "plot_data = [(2014,7160953,1707500),(2015,7793051,1133500),(2016,8395822,1487500),(2017,9034000,4000045),\n",
    "        (2018,4205000,2450500)]"
   ]
  },
  {
   "cell_type": "code",
   "execution_count": null,
   "metadata": {},
   "outputs": [],
   "source": [
    "y,male,female = zip(*plot_data)\n",
    "\n",
    "fig = plt.figure(figsize=(6,3))\n",
    "ax = plt.subplot(111)\n",
    "plt.bar(np.array(y)-0.2,male,width=0.4,color='white',edgecolor='#282828',lw=1,label='Men',zorder=2)\n",
    "plt.bar(np.array(y)+0.2,female,width=0.4,color='#282828',lw=1,label='Women',zorder=2)\n",
    "\n",
    "plt.legend(loc=0,frameon=False)\n",
    "ax.spines['top'].set_visible(False)\n",
    "ax.spines['right'].set_visible(False)\n",
    "\n",
    "for i in [2e6,4e6,6e6,8e6]:\n",
    "    plt.axhline(y=i,lw=0.5,color='#dcdcdc',zorder=1)\n",
    "\n",
    "plt.xticks(fontsize=10)\n",
    "plt.yticks([0,2e6,4e6,6e6,8e6],['0','2 mil kr','4 mil kr','6 mil kr','8 mil kr'],fontsize=10)\n",
    "plt.ylim(0,9.6e6)\n",
    "\n",
    "#plt.figtext(0.5, 0.05, r'Figure 1: Total funds awarded to manuscript writers per year, allocated in the field \"konsulentordning\".', wrap=True, horizontalalignment='center', fontsize=10)\n",
    "plt.show()\n",
    "# caption\n",
    "#'Figure 3: Total funds allocated to manuscript writers per year grouped betwen men and women, awarded in the category \"konsulentordning\".\n",
    "# Due to inconsistencies in the data from the Danish Film Institute funds for manuscript development awarded to the move \"Pigen fra Planen\" (2018) are not included in the figure as the field \"Manusforfatter\" was left empty.'\n",
    "plt.savefig('manus_konsulentordningen.pdf',pad=0,bbox_inched='tight')"
   ]
  },
  {
   "cell_type": "markdown",
   "metadata": {},
   "source": [
    "## Funds to Instruktør"
   ]
  },
  {
   "cell_type": "code",
   "execution_count": null,
   "metadata": {
    "scrolled": true
   },
   "outputs": [],
   "source": [
    "female_money = []\n",
    "male_money = []\n",
    "#for people,fund_p in data[['Instruktør','Produktion 2014']].values:\n",
    "#for people,fund_p in data[['Instruktør','Produktion 2015']].values:\n",
    "#for people,fund_p in data[['Instruktør','Produktion 2016']].values:\n",
    "#for people,fund_p in data[['Instruktør','Produktion 2017']].values:\n",
    "for people,fund_p in data[['Instruktør','Produktion 2018']].values:\n",
    "    if people == people:\n",
    "        # funds for manus \n",
    "        sum_ = sum(map(int,re.findall(r'\\d+', fund_p.replace('.',''))))\n",
    "\n",
    "        # go through the row\n",
    "        # count number of male and female participants\n",
    "        male = 0\n",
    "        female = 0\n",
    "\n",
    "        # is there more than one individuals?\n",
    "        if ',' in people:\n",
    "            for p in people.split(','):\n",
    "                if p.strip().split(' ')[0] in drengenavne:\n",
    "                    male += 1\n",
    "                elif p.strip().split(' ')[0] in pigenavne:\n",
    "                    female += 1\n",
    "                # if the name is ambiguous \n",
    "                else:\n",
    "                    print \"WARNING: Ambiguous name\"\n",
    "                    print people, male, female\n",
    "        else:\n",
    "            if people.split(' ')[0] in drengenavne:\n",
    "                male += 1\n",
    "            elif people.split(' ')[0] in pigenavne:\n",
    "                female += 1\n",
    "            # if the name is ambiguous \n",
    "            else:\n",
    "                print \"WARNING: Ambiguous name\"\n",
    "                print people, male, female\n",
    "                # dont assign these funds to anybody\n",
    "\n",
    "        if sum_ > 0: # sometimes funds are only given to one for the three buckets to avoid adding zeros\n",
    "            total_people = male + female\n",
    "            part = sum_/total_people\n",
    "\n",
    "            for i in range(male):\n",
    "                male_money.append(part)\n",
    "            for i in range(female):\n",
    "                female_money.append(part)"
   ]
  },
  {
   "cell_type": "code",
   "execution_count": null,
   "metadata": {},
   "outputs": [],
   "source": [
    "print \"{:,}\".format(sum(male_money)).replace(',','.'), \"{:,}\".format(sum(female_money)).replace(',','.')\n",
    "print sum(male_money), sum(female_money)"
   ]
  },
  {
   "cell_type": "markdown",
   "metadata": {},
   "source": [
    "__Plot data__"
   ]
  },
  {
   "cell_type": "code",
   "execution_count": null,
   "metadata": {},
   "outputs": [],
   "source": [
    "# year, male_money, female_money\n",
    "plot_data = [(2014,62498771,8672694),(2015,25545000,15300000),(2016,42907028,7482500),(2017,35200000,14900000),\n",
    "        (2018,29520000,4600000)]"
   ]
  },
  {
   "cell_type": "code",
   "execution_count": null,
   "metadata": {},
   "outputs": [],
   "source": [
    "y,male,female = zip(*plot_data)\n",
    "\n",
    "fig = plt.figure(figsize=(6,3))\n",
    "ax = plt.subplot(111)\n",
    "plt.bar(np.array(y)-0.2,male,width=0.4,color='white',edgecolor='#282828',lw=1,label='Men',zorder=2)\n",
    "plt.bar(np.array(y)+0.2,female,width=0.4,color='#282828',lw=1,label='Women',zorder=2)\n",
    "\n",
    "plt.legend(loc=0,frameon=False)\n",
    "ax.spines['top'].set_visible(False)\n",
    "ax.spines['right'].set_visible(False)\n",
    "\n",
    "for i in [10e6,20e6,30e6,40e6,50e6,60e6]:\n",
    "    plt.axhline(y=i,lw=0.5,color='#dcdcdc',zorder=1)\n",
    "\n",
    "plt.xticks(fontsize=10)\n",
    "plt.yticks([0,10e6,20e6,30e6,40e6,50e6,60e6],['0','10 mil kr','20 mil kr','30 mil kr','40 mil kr',\n",
    "                                              '50 mil kr','60 mil kr'],fontsize=10)\n",
    "#plt.ylim(0,9.6e6)\n",
    "\n",
    "plt.show()\n",
    "# caption\n",
    "#'Figure 4: Total funds allocated to directors and for production per year grouped betwen men and women, awarded in the category \"konsulentordning\".'\n",
    "plt.savefig('director_konsulentordningen.pdf',pad=0,bbox_inched='tight')"
   ]
  },
  {
   "cell_type": "code",
   "execution_count": null,
   "metadata": {},
   "outputs": [],
   "source": []
  }
 ],
 "metadata": {
  "kernelspec": {
   "display_name": "Python 2",
   "language": "python",
   "name": "python2"
  },
  "language_info": {
   "codemirror_mode": {
    "name": "ipython",
    "version": 2
   },
   "file_extension": ".py",
   "mimetype": "text/x-python",
   "name": "python",
   "nbconvert_exporter": "python",
   "pygments_lexer": "ipython2",
   "version": "2.7.15"
  }
 },
 "nbformat": 4,
 "nbformat_minor": 2
}
